{
  "nbformat": 4,
  "nbformat_minor": 0,
  "metadata": {
    "colab": {
      "provenance": [],
      "authorship_tag": "ABX9TyOlpKn4Wdlx/9G3BOOwiP/X",
      "include_colab_link": true
    },
    "kernelspec": {
      "name": "python3",
      "display_name": "Python 3"
    },
    "language_info": {
      "name": "python"
    }
  },
  "cells": [
    {
      "cell_type": "markdown",
      "metadata": {
        "id": "view-in-github",
        "colab_type": "text"
      },
      "source": [
        "<a href=\"https://colab.research.google.com/github/ParthPujare/java-learning-projects/blob/main/Untitled0.ipynb\" target=\"_parent\"><img src=\"https://colab.research.google.com/assets/colab-badge.svg\" alt=\"Open In Colab\"/></a>"
      ]
    },
    {
      "cell_type": "code",
      "execution_count": null,
      "metadata": {
        "colab": {
          "base_uri": "https://localhost:8080/"
        },
        "id": "N6wY3tJolK86",
        "outputId": "c0eaad1c-142f-4a04-f31e-16e84f290477"
      },
      "outputs": [
        {
          "output_type": "stream",
          "name": "stdout",
          "text": [
            "Hello World\n"
          ]
        }
      ],
      "source": [
        "print('Hello World')"
      ]
    },
    {
      "cell_type": "code",
      "source": [
        "#ASCII value\n",
        "ord(a)"
      ],
      "metadata": {
        "colab": {
          "base_uri": "https://localhost:8080/",
          "height": 158
        },
        "id": "TPFuyXKFl23G",
        "outputId": "893e37c1-3184-4ffe-e883-72f0f2ad400d"
      },
      "execution_count": null,
      "outputs": [
        {
          "output_type": "error",
          "ename": "NameError",
          "evalue": "name 'a' is not defined",
          "traceback": [
            "\u001b[0;31m---------------------------------------------------------------------------\u001b[0m",
            "\u001b[0;31mNameError\u001b[0m                                 Traceback (most recent call last)",
            "\u001b[0;32m<ipython-input-2-ea656f0e4ba6>\u001b[0m in \u001b[0;36m<cell line: 2>\u001b[0;34m()\u001b[0m\n\u001b[1;32m      1\u001b[0m \u001b[0;31m#ASCII value\u001b[0m\u001b[0;34m\u001b[0m\u001b[0;34m\u001b[0m\u001b[0m\n\u001b[0;32m----> 2\u001b[0;31m \u001b[0mord\u001b[0m\u001b[0;34m(\u001b[0m\u001b[0ma\u001b[0m\u001b[0;34m)\u001b[0m\u001b[0;34m\u001b[0m\u001b[0;34m\u001b[0m\u001b[0m\n\u001b[0m",
            "\u001b[0;31mNameError\u001b[0m: name 'a' is not defined"
          ]
        }
      ]
    },
    {
      "cell_type": "code",
      "source": [
        "#ASCII value\n",
        "ord('a')"
      ],
      "metadata": {
        "colab": {
          "base_uri": "https://localhost:8080/"
        },
        "id": "ojoTFPNlnkc8",
        "outputId": "5df23887-a329-4024-ff77-1cd6fee38fd0"
      },
      "execution_count": null,
      "outputs": [
        {
          "output_type": "execute_result",
          "data": {
            "text/plain": [
              "97"
            ]
          },
          "metadata": {},
          "execution_count": 3
        }
      ]
    },
    {
      "cell_type": "code",
      "source": [
        "chr(97)"
      ],
      "metadata": {
        "colab": {
          "base_uri": "https://localhost:8080/",
          "height": 36
        },
        "id": "1h-paePznsNb",
        "outputId": "537f36b6-b8e4-446b-e2c1-5be42ce3de7f"
      },
      "execution_count": null,
      "outputs": [
        {
          "output_type": "execute_result",
          "data": {
            "text/plain": [
              "'a'"
            ],
            "application/vnd.google.colaboratory.intrinsic+json": {
              "type": "string"
            }
          },
          "metadata": {},
          "execution_count": 4
        }
      ]
    },
    {
      "cell_type": "code",
      "source": [
        "str1 = 'HEllo World'\n",
        "str1.upper()"
      ],
      "metadata": {
        "colab": {
          "base_uri": "https://localhost:8080/",
          "height": 36
        },
        "id": "l64HyzmqoFIV",
        "outputId": "eb261bf7-9738-4e9d-f382-e61ef1c3795e"
      },
      "execution_count": null,
      "outputs": [
        {
          "output_type": "execute_result",
          "data": {
            "text/plain": [
              "'HELLO WORLD'"
            ],
            "application/vnd.google.colaboratory.intrinsic+json": {
              "type": "string"
            }
          },
          "metadata": {},
          "execution_count": 8
        }
      ]
    },
    {
      "cell_type": "code",
      "source": [
        "n = int(input('enter a number'))\n",
        "if n%3 == 0:\n",
        "  if n%5 == 0:\n",
        "    print('fizzbuzz')\n",
        "  else:\n",
        "    print('fizz')\n",
        "elif n%5 == 0:\n",
        "  print('buzz')\n",
        "else:\n",
        "  print(n)"
      ],
      "metadata": {
        "colab": {
          "base_uri": "https://localhost:8080/"
        },
        "id": "XZFmAS7Lo6Dk",
        "outputId": "1c455c12-16ea-4f59-c237-e53153c05988"
      },
      "execution_count": null,
      "outputs": [
        {
          "output_type": "stream",
          "name": "stdout",
          "text": [
            "enter a number15\n",
            "fizzbuzz\n"
          ]
        }
      ]
    },
    {
      "cell_type": "code",
      "source": [
        "n = int(input('Enter the number of lines'))\n",
        "for i in range(n):\n",
        "  for j in range(n-i):\n",
        "    print('*',end = \"\")\n",
        "  print()"
      ],
      "metadata": {
        "colab": {
          "base_uri": "https://localhost:8080/"
        },
        "id": "S-Pmo-FQrT-F",
        "outputId": "63d418bc-de17-44d9-ba84-ff95c0376cd9"
      },
      "execution_count": null,
      "outputs": [
        {
          "output_type": "stream",
          "name": "stdout",
          "text": [
            "Enter the number of lines5\n",
            "*****\n",
            "****\n",
            "***\n",
            "**\n",
            "*\n"
          ]
        }
      ]
    },
    {
      "cell_type": "code",
      "source": [
        "#n = int(inut('Enter the number of lines'))\n",
        "for i in range(6):\n",
        "  for j in range(5-i):\n",
        "    print(\" \",end = '')\n",
        "  for j in range(i):\n",
        "    print(str(i)+\" \",end = '')\n",
        "  print()\n",
        "for i in range(5):\n",
        "  if i!=0:\n",
        "    for j in range(i):\n",
        "      print(\" \",end = '')\n",
        "    for j in range(5-i):\n",
        "      print(str(5-i)+' ',end='')\n",
        "    print()"
      ],
      "metadata": {
        "colab": {
          "base_uri": "https://localhost:8080/"
        },
        "id": "EheV4u4xsRcZ",
        "outputId": "bcac9f0c-77a5-4ac1-829c-9ef3865259b2"
      },
      "execution_count": null,
      "outputs": [
        {
          "output_type": "stream",
          "name": "stdout",
          "text": [
            "     \n",
            "    1 \n",
            "   2 2 \n",
            "  3 3 3 \n",
            " 4 4 4 4 \n",
            "5 5 5 5 5 \n",
            " 4 4 4 4 \n",
            "  3 3 3 \n",
            "   2 2 \n",
            "    1 \n"
          ]
        }
      ]
    },
    {
      "cell_type": "code",
      "source": [
        "n = int(input('Number half the number of lines '))\n",
        "for i in range(1,(n+1)):\n",
        "  print(' '*(n-i) + f\"{i} \"*i)\n",
        "for i in range(5,0,-1):\n",
        "  print(' '*(n-i) + f\"{i} \"*i)"
      ],
      "metadata": {
        "colab": {
          "base_uri": "https://localhost:8080/"
        },
        "id": "D09Odi2Luklb",
        "outputId": "7b768d1f-6665-463e-f57b-73d8fb94d421"
      },
      "execution_count": null,
      "outputs": [
        {
          "output_type": "stream",
          "name": "stdout",
          "text": [
            "Number of lines6\n",
            "     1 \n",
            "    2 2 \n",
            "   3 3 3 \n",
            "  4 4 4 4 \n",
            " 5 5 5 5 5 \n",
            "6 6 6 6 6 6 \n",
            " 5 5 5 5 5 \n",
            "  4 4 4 4 \n",
            "   3 3 3 \n",
            "    2 2 \n",
            "     1 \n"
          ]
        }
      ]
    },
    {
      "cell_type": "code",
      "source": [
        "lst = [1,2,3,4,5]\n",
        "lst.reverse()\n",
        "print(lst)\n",
        "\n",
        "##\n",
        "\n",
        "#lst2 = [1,2,3,4,5]\n",
        "lst = lst[::-1]\n",
        "print(lst)"
      ],
      "metadata": {
        "colab": {
          "base_uri": "https://localhost:8080/"
        },
        "id": "R8m6qcuGxegm",
        "outputId": "e5fb9a65-a803-473d-fa44-e2a325d9dbfe"
      },
      "execution_count": null,
      "outputs": [
        {
          "output_type": "stream",
          "name": "stdout",
          "text": [
            "[5, 4, 3, 2, 1]\n",
            "[1, 2, 3, 4, 5]\n"
          ]
        }
      ]
    },
    {
      "cell_type": "code",
      "source": [
        "lst = [1,2,3,4,5]\n",
        "lst.append([6,7])\n",
        "print(lst)\n",
        "lst.extend([6,7])\n",
        "print(lst)"
      ],
      "metadata": {
        "colab": {
          "base_uri": "https://localhost:8080/"
        },
        "id": "hsIs8K5EzFK0",
        "outputId": "91017b10-79f2-4da7-c3ad-202dcdb3d02b"
      },
      "execution_count": null,
      "outputs": [
        {
          "output_type": "stream",
          "name": "stdout",
          "text": [
            "[1, 2, 3, 4, 5, [6, 7]]\n",
            "[1, 2, 3, 4, 5, [6, 7], 6, 7]\n"
          ]
        }
      ]
    },
    {
      "cell_type": "code",
      "source": [
        "lstMax = [[1,'b','c'],[1,2,3],'a']\n",
        "print(lstMax[0][1])\n",
        "for index, value in enumerate(lst):\n",
        "  print(f\"index is {index} value is {value} \")"
      ],
      "metadata": {
        "colab": {
          "base_uri": "https://localhost:8080/"
        },
        "id": "ohbg2KPKzvws",
        "outputId": "a36507dd-8c9d-444b-e286-2c7de8215a87"
      },
      "execution_count": null,
      "outputs": [
        {
          "output_type": "stream",
          "name": "stdout",
          "text": [
            "b\n",
            "index is 0 value is 1 \n",
            "index is 1 value is 2 \n",
            "index is 2 value is 3 \n",
            "index is 3 value is 4 \n",
            "index is 4 value is 5 \n",
            "index is 5 value is [6, 7] \n",
            "index is 6 value is 6 \n",
            "index is 7 value is 7 \n"
          ]
        }
      ]
    },
    {
      "cell_type": "code",
      "source": [
        "#List Comprehension"
      ],
      "metadata": {
        "id": "jhtqyuSd09m_"
      },
      "execution_count": null,
      "outputs": []
    },
    {
      "cell_type": "code",
      "source": [
        "lst = [x for x in range(1,10,2)]\n",
        "lst"
      ],
      "metadata": {
        "colab": {
          "base_uri": "https://localhost:8080/"
        },
        "id": "8k6qiGfx1GEk",
        "outputId": "e23e796e-c23e-438a-cff6-0cfacc90b96d"
      },
      "execution_count": null,
      "outputs": [
        {
          "output_type": "execute_result",
          "data": {
            "text/plain": [
              "[1, 3, 5, 7, 9]"
            ]
          },
          "metadata": {},
          "execution_count": 46
        }
      ]
    },
    {
      "cell_type": "code",
      "source": [
        "tup = (0,2,4)\n",
        "tup"
      ],
      "metadata": {
        "colab": {
          "base_uri": "https://localhost:8080/"
        },
        "id": "wo_y8Qv21OS0",
        "outputId": "0b6edfe7-e194-4827-8221-6ce25cfb6906"
      },
      "execution_count": null,
      "outputs": [
        {
          "output_type": "execute_result",
          "data": {
            "text/plain": [
              "(0, 2, 4)"
            ]
          },
          "metadata": {},
          "execution_count": 47
        }
      ]
    },
    {
      "cell_type": "code",
      "source": [
        "lst = lst + list(tup)"
      ],
      "metadata": {
        "id": "BdY1Zbm11xDb"
      },
      "execution_count": null,
      "outputs": []
    },
    {
      "cell_type": "code",
      "source": [
        "lst"
      ],
      "metadata": {
        "colab": {
          "base_uri": "https://localhost:8080/"
        },
        "id": "toXxKUWP12It",
        "outputId": "db50de18-10ed-4aab-f1d0-6a69f213cded"
      },
      "execution_count": null,
      "outputs": [
        {
          "output_type": "execute_result",
          "data": {
            "text/plain": [
              "[1, 3, 5, 7, 9, 0, 2, 4]"
            ]
          },
          "metadata": {},
          "execution_count": 49
        }
      ]
    },
    {
      "cell_type": "code",
      "source": [
        "s = {1,2,2,2,3,4}\n",
        "s"
      ],
      "metadata": {
        "colab": {
          "base_uri": "https://localhost:8080/"
        },
        "id": "GznymqF114xy",
        "outputId": "5fd87050-c08d-4922-ab53-274d4b03f9c6"
      },
      "execution_count": null,
      "outputs": [
        {
          "output_type": "execute_result",
          "data": {
            "text/plain": [
              "{1, 2, 3, 4}"
            ]
          },
          "metadata": {},
          "execution_count": 50
        }
      ]
    },
    {
      "cell_type": "code",
      "source": [
        "s.add(5)"
      ],
      "metadata": {
        "id": "u96tYJM_2BIs"
      },
      "execution_count": null,
      "outputs": []
    },
    {
      "cell_type": "code",
      "source": [
        "s"
      ],
      "metadata": {
        "colab": {
          "base_uri": "https://localhost:8080/"
        },
        "id": "qiSg6ttZ2Epa",
        "outputId": "9ddd0ff4-afd7-472d-863c-755f18ebe6a1"
      },
      "execution_count": null,
      "outputs": [
        {
          "output_type": "execute_result",
          "data": {
            "text/plain": [
              "{1, 2, 3, 4, 5}"
            ]
          },
          "metadata": {},
          "execution_count": 52
        }
      ]
    },
    {
      "cell_type": "code",
      "source": [
        "s1 = {1,3,5,7}\n",
        "s2 = {0,2,4,6,11,3,,3}\n",
        "s1.union(s2)"
      ],
      "metadata": {
        "colab": {
          "base_uri": "https://localhost:8080/"
        },
        "id": "0sAyFNcW2FiN",
        "outputId": "b1216b55-9b29-46e0-cc09-494e0f6d03ff"
      },
      "execution_count": null,
      "outputs": [
        {
          "output_type": "execute_result",
          "data": {
            "text/plain": [
              "{0, 1, 2, 3, 4, 5, 6, 7}"
            ]
          },
          "metadata": {},
          "execution_count": 53
        }
      ]
    },
    {
      "cell_type": "code",
      "source": [
        "s1.intersection(s2)"
      ],
      "metadata": {
        "colab": {
          "base_uri": "https://localhost:8080/"
        },
        "id": "ozuHDsop2RHk",
        "outputId": "4013171c-7029-4490-f07e-9337cc36c7fa"
      },
      "execution_count": null,
      "outputs": [
        {
          "output_type": "execute_result",
          "data": {
            "text/plain": [
              "set()"
            ]
          },
          "metadata": {},
          "execution_count": 54
        }
      ]
    },
    {
      "cell_type": "code",
      "source": [
        "s2.difference(s1)"
      ],
      "metadata": {
        "colab": {
          "base_uri": "https://localhost:8080/"
        },
        "id": "I-ic9QID2V9C",
        "outputId": "3fd68587-92ff-4620-a5e9-43480449c184"
      },
      "execution_count": null,
      "outputs": [
        {
          "output_type": "execute_result",
          "data": {
            "text/plain": [
              "{0, 2, 4, 6}"
            ]
          },
          "metadata": {},
          "execution_count": 55
        }
      ]
    },
    {
      "cell_type": "code",
      "source": [
        "d = {'a':[1,2],'b':[2,3]}\n",
        "d"
      ],
      "metadata": {
        "colab": {
          "base_uri": "https://localhost:8080/"
        },
        "id": "FFy0tkms2gBx",
        "outputId": "7a712302-9366-43e3-b4ee-4eaea432259b"
      },
      "execution_count": null,
      "outputs": [
        {
          "output_type": "execute_result",
          "data": {
            "text/plain": [
              "{'a': [1, 2], 'b': [2, 3]}"
            ]
          },
          "metadata": {},
          "execution_count": 57
        }
      ]
    },
    {
      "cell_type": "code",
      "source": [
        "for key , value in d.items():\n",
        "  print(f\"key = {key} value = {value}\")"
      ],
      "metadata": {
        "colab": {
          "base_uri": "https://localhost:8080/"
        },
        "id": "MvOwWOaM3HuZ",
        "outputId": "875cfd5a-24b3-499c-b97f-404cb72b93c9"
      },
      "execution_count": null,
      "outputs": [
        {
          "output_type": "stream",
          "name": "stdout",
          "text": [
            "key = a value = [1, 2]\n",
            "key = b value = [2, 3]\n"
          ]
        }
      ]
    },
    {
      "cell_type": "code",
      "source": [
        "d['a'][1]"
      ],
      "metadata": {
        "colab": {
          "base_uri": "https://localhost:8080/"
        },
        "id": "F3vZvo773Xqw",
        "outputId": "25891937-de5e-4baf-ff15-7c26b3f7250b"
      },
      "execution_count": null,
      "outputs": [
        {
          "output_type": "execute_result",
          "data": {
            "text/plain": [
              "2"
            ]
          },
          "metadata": {},
          "execution_count": 59
        }
      ]
    },
    {
      "cell_type": "code",
      "source": [
        "d.get('a') # value for a particular key"
      ],
      "metadata": {
        "colab": {
          "base_uri": "https://localhost:8080/"
        },
        "id": "QvRmK6063inJ",
        "outputId": "68c3c088-c5c2-4224-9b79-5701c9cf0cfd"
      },
      "execution_count": null,
      "outputs": [
        {
          "output_type": "execute_result",
          "data": {
            "text/plain": [
              "[1, 2]"
            ]
          },
          "metadata": {},
          "execution_count": 60
        }
      ]
    },
    {
      "cell_type": "code",
      "source": [
        "lst1 = [1,2,3]\n",
        "lst2 = ['a','b','c']\n",
        "d1 = dict(zip(lst1,lst2))\n",
        "d1"
      ],
      "metadata": {
        "colab": {
          "base_uri": "https://localhost:8080/"
        },
        "id": "wCfKb3T83o-n",
        "outputId": "3cd68d1a-93de-462c-b2c5-87a8e9b6c6b9"
      },
      "execution_count": null,
      "outputs": [
        {
          "output_type": "execute_result",
          "data": {
            "text/plain": [
              "{1: 'a', 2: 'b', 3: 'c'}"
            ]
          },
          "metadata": {},
          "execution_count": 65
        }
      ]
    },
    {
      "cell_type": "code",
      "source": [
        "# functions\n",
        "def add (a,b):\n",
        "  return(a+b)\n",
        "sum = add(2,4)\n",
        "sum"
      ],
      "metadata": {
        "colab": {
          "base_uri": "https://localhost:8080/"
        },
        "id": "CuaUwRAL4QyE",
        "outputId": "6bbc0fbb-5308-4dcc-a89b-6deada8d4dbd"
      },
      "execution_count": null,
      "outputs": [
        {
          "output_type": "execute_result",
          "data": {
            "text/plain": [
              "6"
            ]
          },
          "metadata": {},
          "execution_count": 66
        }
      ]
    },
    {
      "cell_type": "code",
      "source": [
        "#giving default values to the parameters\n",
        "def add (a,b,c=0):\n",
        "  return(a+b+c)\n",
        "sum = add(2,3)\n",
        "print(sum)\n",
        "sum = add(2,4,3)\n",
        "sum"
      ],
      "metadata": {
        "colab": {
          "base_uri": "https://localhost:8080/"
        },
        "id": "zwHQZtqf5y3B",
        "outputId": "9ebddfca-af5b-42c4-afdb-0d5b4d83586a"
      },
      "execution_count": null,
      "outputs": [
        {
          "output_type": "stream",
          "name": "stdout",
          "text": [
            "6\n"
          ]
        },
        {
          "output_type": "execute_result",
          "data": {
            "text/plain": [
              "9"
            ]
          },
          "metadata": {},
          "execution_count": 69
        }
      ]
    },
    {
      "cell_type": "code",
      "source": [
        "#Lambda\n",
        "mul = lambda x,y,z : x*y*z\n",
        "mul(2,3,4)"
      ],
      "metadata": {
        "colab": {
          "base_uri": "https://localhost:8080/"
        },
        "id": "Hkw9d6ds6RpU",
        "outputId": "21a428f7-9273-4160-92d6-64d3d71fd9de"
      },
      "execution_count": null,
      "outputs": [
        {
          "output_type": "execute_result",
          "data": {
            "text/plain": [
              "24"
            ]
          },
          "metadata": {},
          "execution_count": 70
        }
      ]
    },
    {
      "cell_type": "code",
      "source": [
        "# Using Map function to apply a function to all elemnts of the list....\n",
        "def sq (data):\n",
        "  return(data**2)\n",
        "list(map(sq,[1,2,3,4]))"
      ],
      "metadata": {
        "colab": {
          "base_uri": "https://localhost:8080/"
        },
        "id": "jMxk3ZEx6s25",
        "outputId": "b32548e0-201b-416b-adb6-62833bfa4a41"
      },
      "execution_count": null,
      "outputs": [
        {
          "output_type": "execute_result",
          "data": {
            "text/plain": [
              "[1, 4, 9, 16]"
            ]
          },
          "metadata": {},
          "execution_count": 71
        }
      ]
    },
    {
      "cell_type": "code",
      "source": [
        "# Filter\n",
        "lst = [1,2,3,4,5,6,7]\n",
        "def is_even(lst):\n",
        "  return lst%2==0\n",
        "elst = list(filter(is_even, lst))\n",
        "print(elst)"
      ],
      "metadata": {
        "colab": {
          "base_uri": "https://localhost:8080/"
        },
        "id": "B6L03ab17Wye",
        "outputId": "affc946d-9da1-45d5-bdfd-9758ef15dd4e"
      },
      "execution_count": null,
      "outputs": [
        {
          "output_type": "stream",
          "name": "stdout",
          "text": [
            "[2, 4, 6]\n"
          ]
        }
      ]
    },
    {
      "cell_type": "code",
      "source": [
        "# Reduce\n",
        "from functools import reduce\n",
        "lst = [1,2,3,4,5]\n",
        "def add (first,second):\n",
        "  return first+second\n",
        "result = reduce(add, lst,10)# starts with 10 as the initial value\n",
        "result"
      ],
      "metadata": {
        "colab": {
          "base_uri": "https://localhost:8080/"
        },
        "id": "m8bMuGpU8njp",
        "outputId": "fe9ed06e-f7bd-4201-d1aa-43a5e7f423bd"
      },
      "execution_count": null,
      "outputs": [
        {
          "output_type": "execute_result",
          "data": {
            "text/plain": [
              "25"
            ]
          },
          "metadata": {},
          "execution_count": 73
        }
      ]
    },
    {
      "cell_type": "code",
      "source": [],
      "metadata": {
        "id": "NGygGrm_9jUk"
      },
      "execution_count": null,
      "outputs": []
    }
  ]
}